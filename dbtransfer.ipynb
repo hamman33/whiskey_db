{
 "cells": [
  {
   "cell_type": "code",
   "execution_count": 33,
   "id": "a342aec1-c22c-4cfa-8f4c-67ba2b418e6c",
   "metadata": {},
   "outputs": [],
   "source": [
    "import sqlite3\n",
    "import time\n",
    "import datetime\n",
    "import random\n",
    "\n",
    "conn = sqlite3.connect('whiskey_old.db')\n",
    "c = conn.cursor()\n",
    "\n",
    "conn2 = sqlite3.connect('whiskey.db')\n",
    "c2 = conn2.cursor()"
   ]
  },
  {
   "cell_type": "code",
   "execution_count": 34,
   "id": "c6e96668-35e5-4b06-8a91-a1c68489cd36",
   "metadata": {},
   "outputs": [],
   "source": [
    "def data_entry(row):\n",
    "    c2.execute(\"INSERT or REPLACE INTO collection VALUES(?,?,?,?,?)\", (str(row[1]), row[3], row[4], row[5], 0))\n",
    "    \n",
    "    conn2.commit()\n",
    "    "
   ]
  },
  {
   "cell_type": "code",
   "execution_count": 35,
   "id": "a0a4826a-7b7c-4054-8793-22befee0fcb7",
   "metadata": {},
   "outputs": [],
   "source": [
    "def data_entry_rat(row):\n",
    "    c2.execute(\"INSERT or REPLACE INTO ratings VALUES(?,?,?,?,?,?)\", (row[0], row[2], row[3], row[4], row[5], 0))\n",
    "    \n",
    "    conn2.commit()"
   ]
  },
  {
   "cell_type": "code",
   "execution_count": 36,
   "id": "d4aead58-1459-412d-9387-1f427d312a36",
   "metadata": {},
   "outputs": [],
   "source": [
    "c.execute('SELECT * FROM collection')\n",
    "data = c.fetchall()\n",
    "#print(data)\n",
    "for row in data:\n",
    "    data_entry(row)"
   ]
  },
  {
   "cell_type": "code",
   "execution_count": 37,
   "id": "ff6938d3-7a0d-4461-9eff-792190abee76",
   "metadata": {},
   "outputs": [],
   "source": [
    "c.execute('SELECT * FROM ratings')\n",
    "data = c.fetchall()\n",
    "#print(data)\n",
    "for row in data:\n",
    "    data_entry_rat(row)"
   ]
  },
  {
   "cell_type": "code",
   "execution_count": 32,
   "id": "352bc490-9f9e-4a51-a67b-c615eb9004f6",
   "metadata": {},
   "outputs": [],
   "source": [
    "c.close()\n",
    "conn.close()\n",
    "c2.close()\n",
    "conn2.close()"
   ]
  },
  {
   "cell_type": "code",
   "execution_count": null,
   "id": "19f8bdc3-9bda-415a-abab-25eb285bced3",
   "metadata": {},
   "outputs": [],
   "source": []
  }
 ],
 "metadata": {
  "kernelspec": {
   "display_name": "Python 3 (ipykernel)",
   "language": "python",
   "name": "python3"
  },
  "language_info": {
   "codemirror_mode": {
    "name": "ipython",
    "version": 3
   },
   "file_extension": ".py",
   "mimetype": "text/x-python",
   "name": "python",
   "nbconvert_exporter": "python",
   "pygments_lexer": "ipython3",
   "version": "3.10.6"
  }
 },
 "nbformat": 4,
 "nbformat_minor": 5
}
