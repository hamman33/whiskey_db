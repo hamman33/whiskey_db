{
 "cells": [
  {
   "cell_type": "code",
   "execution_count": 1,
   "id": "a342aec1-c22c-4cfa-8f4c-67ba2b418e6c",
   "metadata": {},
   "outputs": [],
   "source": [
    "import sqlite3\n",
    "import time\n",
    "import datetime\n",
    "import random\n",
    "\n",
    "conn = sqlite3.connect('whiskey_old.db')\n",
    "c = conn.cursor()\n",
    "\n",
    "conn2 = sqlite3.connect('whiskey.db')\n",
    "c2 = conn2.cursor()"
   ]
  },
  {
   "cell_type": "code",
   "execution_count": 2,
   "id": "c6e96668-35e5-4b06-8a91-a1c68489cd36",
   "metadata": {},
   "outputs": [],
   "source": [
    "def data_entry(row, i):\n",
    "    c2.execute(\"INSERT or REPLACE INTO collection VALUES(?,?,?,?,?,?)\", (i, str(row[0]), row[1], row[2], row[3], 0))\n",
    "    \n",
    "    conn2.commit()\n",
    "    "
   ]
  },
  {
   "cell_type": "code",
   "execution_count": 3,
   "id": "d4aead58-1459-412d-9387-1f427d312a36",
   "metadata": {},
   "outputs": [],
   "source": [
    "c.execute('SELECT * FROM collection')\n",
    "data = c.fetchall()\n",
    "#print(data)\n",
    "i = 1\n",
    "for row in data:\n",
    "    data_entry(row, i)\n",
    "    i = i+1"
   ]
  },
  {
   "cell_type": "code",
   "execution_count": 12,
   "id": "29b79796-2bda-494b-86e6-bce19e2401ee",
   "metadata": {},
   "outputs": [],
   "source": [
    "def data_entry_rat(row, id):\n",
    "    c2.execute(\"INSERT or REPLACE INTO ratings VALUES(?,?,?,?,?,?)\", (row[0], id, row[2], row[3], row[4], row[5]))\n",
    "    \n",
    "    conn2.commit()"
   ]
  },
  {
   "cell_type": "code",
   "execution_count": 18,
   "id": "ff6938d3-7a0d-4461-9eff-792190abee76",
   "metadata": {},
   "outputs": [],
   "source": [
    "c.execute('SELECT * FROM ratings')\n",
    "rate = c.fetchall()\n",
    "c2.execute('SELECT * FROM collection')\n",
    "bot = c2.fetchall()\n",
    "\n",
    "for r in rate:\n",
    "    for b in bot:\n",
    "        if r[1] == b[1]:\n",
    "            data_entry_rat(r, b[0])\n",
    "    #print(row)"
   ]
  },
  {
   "cell_type": "code",
   "execution_count": 17,
   "id": "8a04ca15-4da4-46ff-bd60-aa72623a4c27",
   "metadata": {},
   "outputs": [
    {
     "name": "stdout",
     "output_type": "stream",
     "text": [
      "Pinhook 2022 Rye Mummy\n",
      "Woodford Reserve\n",
      "1\n"
     ]
    }
   ],
   "source": [
    "print(r[1])\n",
    "print(b[1])\n",
    "print(b[0])"
   ]
  },
  {
   "cell_type": "code",
   "execution_count": null,
   "id": "352bc490-9f9e-4a51-a67b-c615eb9004f6",
   "metadata": {},
   "outputs": [],
   "source": [
    "c.close()\n",
    "conn.close()\n",
    "c2.close()\n",
    "conn2.close()"
   ]
  },
  {
   "cell_type": "code",
   "execution_count": null,
   "id": "19f8bdc3-9bda-415a-abab-25eb285bced3",
   "metadata": {},
   "outputs": [],
   "source": []
  }
 ],
 "metadata": {
  "kernelspec": {
   "display_name": "Python 3 (ipykernel)",
   "language": "python",
   "name": "python3"
  },
  "language_info": {
   "codemirror_mode": {
    "name": "ipython",
    "version": 3
   },
   "file_extension": ".py",
   "mimetype": "text/x-python",
   "name": "python",
   "nbconvert_exporter": "python",
   "pygments_lexer": "ipython3",
   "version": "3.10.6"
  }
 },
 "nbformat": 4,
 "nbformat_minor": 5
}
