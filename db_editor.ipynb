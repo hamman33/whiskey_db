{
 "cells": [
  {
   "cell_type": "code",
   "execution_count": 1,
   "id": "8fe08771-c39a-4de4-b228-7fafbda2ecb3",
   "metadata": {},
   "outputs": [
    {
     "name": "stderr",
     "output_type": "stream",
     "text": [
      "/home/mjhampo/Documents/repos/whiskey_db/venv/lib/python3.10/site-packages/flask_sqlalchemy/__init__.py:872: FSADeprecationWarning: SQLALCHEMY_TRACK_MODIFICATIONS adds significant overhead and will be disabled by default in the future.  Set it to True or False to suppress this warning.\n",
      "  warnings.warn(FSADeprecationWarning(\n"
     ]
    }
   ],
   "source": [
    "from operator import truediv\n",
    "from flask import Flask, render_template, url_for, request, redirect, flash\n",
    "from flask_sqlalchemy import SQLAlchemy\n",
    "from datetime import datetime\n",
    "from os.path import exists\n",
    "from werkzeug.utils import secure_filename\n",
    "import os\n",
    "import json\n",
    "\n",
    "app = Flask(__name__)\n",
    "app.config['SQLALCHEMY_DATABASE_URI'] = 'sqlite:///whiskey.db'\n",
    "app.config['UPLOAD_FOLDER'] = './static/images/'\n",
    "app.secret_key = \"super secret key\"\n",
    "ALLOWED_EXTENSIONS = set(['txt', 'pdf', 'png', 'jpg', 'jpeg', 'gif'])\n",
    "db = SQLAlchemy(app)\n",
    "\n",
    "class Ratings(db.Model):\n",
    "    rating_num = db.Column(db.Integer, primary_key=True)\n",
    "    bottle_id = db.Column(db.Integer, nullable=False)\n",
    "    rating = db.Column(db.Integer, nullable=False)\n",
    "    drinker = db.Column(db.String(50))\n",
    "    date_drank = db.Column(db.DateTime, default=datetime.now)\n",
    "    blind = db.Column(db.Boolean, default=False)\n",
    "    def __repr__(self):\n",
    "        return '<rating %r>' % self.rating\n",
    "\n",
    "\n",
    "class Collection(db.Model):\n",
    "    bottle_id = db.Column(db.Integer, primary_key=True)\n",
    "    bottle_name = db.Column(db.String(200))\n",
    "    whiskey_type = db.Column(db.String(50), default=0)\n",
    "    proof = db.Column(db.Float, default=0)\n",
    "    avg_rating = db.Column(db.Float, default=0)\n",
    "    num_ratings = db.Column(db.Integer, default=0)\n",
    "\n",
    "    def __repr__(self):\n",
    "        return '<bottle %r>' % self.bottle\n",
    "    \n",
    "class Users(db.Model):\n",
    "    user_id = db.Column(db.Integer, primary_key=True)\n",
    "    user_name = db.Column(db.String(50))\n",
    "    num_ratings = db.Column(db.Integer, default=0)\n",
    "    num_blinds = db.Column(db.Integer, default=0)\n",
    "    avg_rating = db.Column(db.Float, default=0)\n",
    "    avg_blind = db.Column(db.Float, default=0)\n",
    "    num_bottles = db.Column(db.Integer, default=0)\n",
    "    \n",
    "class Owners(db.Model):\n",
    "    owner_id = db.Column(db.Integer, primary_key=True)\n",
    "    bottle_id = db.Column(db.Integer, nullable=False)\n",
    "    user_id = db.Column(db.Integer, nullable=False)\n",
    "    owns = db.Column(db.Boolean, default=True)\n",
    "    "
   ]
  },
  {
   "cell_type": "code",
   "execution_count": 6,
   "id": "be8564ed-dfa1-45a9-8268-852e06909bba",
   "metadata": {},
   "outputs": [
    {
     "name": "stdout",
     "output_type": "stream",
     "text": [
      "<Users 15>\n"
     ]
    }
   ],
   "source": [
    "#db.session.rollback()\n",
    "#db.create_all()\n",
    "u = db.session.query(Users).filter(Users.user_name=='joe').all()\n",
    "print(u[0])\n",
    "db.session.delete(u[0])\n",
    "db.session.commit()"
   ]
  },
  {
   "cell_type": "code",
   "execution_count": null,
   "id": "0059de76-d0ae-4b41-8b6a-3af19c558b84",
   "metadata": {},
   "outputs": [],
   "source": [
    "\n",
    "users = db.session.query(Ratings.drinker).distinct().all()\n",
    "print(users)\n",
    "\n",
    "user = users[0]\n",
    "\n",
    "uid = 0\n",
    "ratings = db.session.query(Ratings.rating, Ratings.drinker, Ratings.blind).filter(Ratings.drinker==user[0]).all()\n",
    "bratings = db.session.query(Ratings.rating, Ratings.drinker, Ratings.blind).filter(Ratings.drinker==user[0], Ratings.blind==True).all()\n",
    "rats = [rate.rating for rate in ratings]\n",
    "brats = [rate.rating for rate in bratings]\n",
    "\n",
    "if(len(brats)==0):\n",
    "    newuser = Users(user_id=uid, user_name=user[0], num_ratings=len(ratings), num_blinds=len(bratings), avg_rating=round((sum(rats)/len(rats)), 2), avg_blind=0)\n",
    "else:\n",
    "    newuser = Users(user_id=uid, user_name=user[0], num_ratings=len(ratings), num_blinds=len(bratings), avg_rating=round((sum(rats)/len(rats)), 2), avg_blind=round((sum(brats)/len(brats)), 2))\n",
    "print(ratings)\n",
    "print(newuser.avg_rating)\n",
    "db.session.add(newuser)\n",
    "db.session.commit()\n"
   ]
  },
  {
   "cell_type": "code",
   "execution_count": null,
   "id": "86e577fb-4795-472c-8544-92a5fccede29",
   "metadata": {},
   "outputs": [],
   "source": [
    "user = db.session.query(Users).filter(Users.user_id==11).all()\n",
    "print(user)\n",
    "\n",
    "db.session.commit()"
   ]
  },
  {
   "cell_type": "code",
   "execution_count": null,
   "id": "f3eea1a9-d00b-4748-abdf-deb9e7dffd03",
   "metadata": {},
   "outputs": [],
   "source": [
    "\n",
    "def getDuration(then, now = datetime.now(), interval = \"default\"):\n",
    "\n",
    "    # Returns a duration as specified by variable interval\n",
    "    # Functions, except totalDuration, returns [quotient, remainder]\n",
    "\n",
    "    duration = now - then # For build-in functions\n",
    "    duration_in_s = duration.total_seconds() \n",
    "    days = int(divmod(duration_in_s, 86400)[0])\n",
    "    hours = int(divmod(duration_in_s, 3600)[0])\n",
    "    minutes = int(divmod(duration_in_s, 60)[0])\n",
    "    \n",
    "    if(days > 0):\n",
    "        return str(days) + ' days ago'\n",
    "    elif(hours > 0):\n",
    "        return str(hours) + ' hours ago'\n",
    "    elif(minutes > 0):\n",
    "        return str(minutes) + ' minutes ago'\n",
    "    else:\n",
    "        return str(int(divmod(duration_in_s, 1))) + ' seconds ago'\n",
    "    "
   ]
  },
  {
   "cell_type": "code",
   "execution_count": null,
   "id": "aa05683b-8c09-4737-a80e-087693df2c34",
   "metadata": {},
   "outputs": [],
   "source": [
    "newRatings = db.session.query(Ratings.rating, Ratings.drinker, Ratings.date_drank, Collection.bottle_name).join(Collection, Ratings.bottle_id==Collection.bottle_id).order_by(Ratings.date_drank.desc()).limit(5).all()\n",
    "rats = [dict(rat) for rat in newRatings]\n",
    "for rat in rats:\n",
    "    rat['time'] = getDuration(rat['date_drank'])\n",
    "print(rats)\n",
    "print(getDuration(newRatings[0].date_drank))"
   ]
  },
  {
   "cell_type": "code",
   "execution_count": null,
   "id": "cec230c8-c8c6-4016-96a4-506bb2a1977b",
   "metadata": {},
   "outputs": [],
   "source": [
    "import matplotlib.pyplot as plt\n",
    "\n",
    "ratings = [ r.rating for r in db.session.query(Ratings.rating).all()]\n",
    "print(sorted(ratings))\n",
    "edges = []\n",
    "for i = \n",
    "n, b, p = plt.hist(ratings, rwidth=0.75)\n",
    "plt.bar_label(p)\n",
    "plt.savefig('./static/figures/hist.png')\n",
    "\n",
    "\n",
    "print(b)\n"
   ]
  },
  {
   "cell_type": "code",
   "execution_count": null,
   "id": "1cbb5412-ebed-4711-8f7a-a61049113b7c",
   "metadata": {},
   "outputs": [],
   "source": [
    "bottles = Collection.query.all()\n",
    "for bot in bottles:\n",
    "    all_ratings = Ratings.query.filter_by(bottle_id=bot.bottle_id).all()\n",
    "    all_ratings_num = [rate.rating for rate in all_ratings]\n",
    "    \n",
    "    if(len(all_ratings_num) == 0):\n",
    "        bot.avg_rating = 0\n",
    "    else:\n",
    "        bot.avg_rating = round((sum(all_ratings_num)/len(all_ratings_num)), 1)\n",
    "    \n",
    "    bot.num_ratings = len(all_ratings_num)\n",
    "    \n",
    "db.session.commit()"
   ]
  },
  {
   "cell_type": "code",
   "execution_count": null,
   "id": "4f8abf0b-4e8b-4805-9cd8-205b3711cfb6",
   "metadata": {},
   "outputs": [],
   "source": [
    "rat = Ratings.query.get_or_404(535)\n",
    "rat.date_drank = datetime(2023,3, 4, 20, 0, 0, 0)\n",
    "db.session.commit()"
   ]
  },
  {
   "cell_type": "code",
   "execution_count": null,
   "id": "83244c2e-cf8e-4aa0-b3f4-3b0cb5eaf38d",
   "metadata": {},
   "outputs": [],
   "source": [
    "ratings = db.session.query(Ratings.rating, Ratings.drinker, Ratings.date_drank, Collection.bottle_name, Ratings.rating_num).join(Collection, Ratings.bottle_id==Collection.bottle_id).order_by(Ratings.date_drank.desc()).all()"
   ]
  },
  {
   "cell_type": "code",
   "execution_count": null,
   "id": "69e25411-12dc-41f7-82b9-9d45a7aec9a1",
   "metadata": {},
   "outputs": [],
   "source": [
    "from datetime import timedelta\n",
    "for rate in ratings:\n",
    "    print(rate)\n",
    "    #rat = Ratings.query.get_or_404(rate[4])\n",
    "    #print(rat.date_drank)\n",
    "    #rat.date_drank = rat.date_drank - timedelta(hours=5)\n",
    "#db.session.commit()"
   ]
  },
  {
   "cell_type": "code",
   "execution_count": null,
   "id": "8111f078-a332-44d5-bcaf-57ab68b46ca3",
   "metadata": {},
   "outputs": [],
   "source": []
  }
 ],
 "metadata": {
  "kernelspec": {
   "display_name": "Python 3 (ipykernel)",
   "language": "python",
   "name": "python3"
  },
  "language_info": {
   "codemirror_mode": {
    "name": "ipython",
    "version": 3
   },
   "file_extension": ".py",
   "mimetype": "text/x-python",
   "name": "python",
   "nbconvert_exporter": "python",
   "pygments_lexer": "ipython3",
   "version": "3.10.6"
  }
 },
 "nbformat": 4,
 "nbformat_minor": 5
}
