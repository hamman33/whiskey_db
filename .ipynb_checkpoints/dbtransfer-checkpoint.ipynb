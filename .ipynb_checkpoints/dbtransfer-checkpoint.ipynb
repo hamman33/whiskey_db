{
 "cells": [
  {
   "cell_type": "code",
   "execution_count": 1,
   "id": "a342aec1-c22c-4cfa-8f4c-67ba2b418e6c",
   "metadata": {},
   "outputs": [],
   "source": [
    "import sqlite3\n",
    "import time\n",
    "import datetime\n",
    "import random\n",
    "\n",
    "conn = sqlite3.connect('whiskey_cor.db')\n",
    "c = conn.cursor()\n",
    "\n",
    "conn2 = sqlite3.connect('whiskey.db')\n",
    "c2 = conn2.cursor()"
   ]
  },
  {
   "cell_type": "code",
   "execution_count": 2,
   "id": "c6e96668-35e5-4b06-8a91-a1c68489cd36",
   "metadata": {},
   "outputs": [],
   "source": [
    "def data_entry(row, i):\n",
    "    c2.execute(\"INSERT or REPLACE INTO collection VALUES(?,?,?,?,?,?)\", (i, str(row[0]), row[1], row[2], row[3], 0))\n",
    "    \n",
    "    conn2.commit()\n",
    "    "
   ]
  },
  {
   "cell_type": "code",
   "execution_count": 3,
   "id": "d4aead58-1459-412d-9387-1f427d312a36",
   "metadata": {},
   "outputs": [
    {
     "name": "stdout",
     "output_type": "stream",
     "text": [
      "[(1, 'Woodford Reserve', 'Bourbon', 90.4, 7.0, 0.0), (3, 'Pinhook 2022 Rye Mummy', 'Rye', 99.0, 7.2, 0.0), (5, 'Four Roses Small Batch Select', 'Bourbon', 104.0, 6.5, 0.0), (7, '1792 Small Batch', 'Bourbon', 93.7, 7.1, 0.0), (8, 'Iron Fish Four Cask', 'Bourbon', 90.0, 5.5, 0.0), (10, 'Pinhook 2021 Bourbon Heist', 'Bourbon', 98.0, 6.9, 0.0), (12, 'Orphan Barrel Fable and Folly', 'American', 90.0, 7.0, 0.0), (13, 'Woodford Reserve Rye', 'Rye', 90.4, 6.9, 0.0), (15, 'Roseville Union', 'Rye', 100.0, 6.3, 0.0), (17, 'Larceny Small Batch', 'Bourbon', 92.0, 7.25, 0.0), (18, 'Blue Run High Rye', 'Bourbon', 111.0, 7.2, 0.0), (20, \"Angel's Envy Barrel Pick\", 'Bourbon', 107.0, 6.7, 0.0), (21, 'Rabbit Hole Cavehill', 'Bourbon', 95.0, 6.4, 0.0), (24, 'Nulu Double Oaked', 'Bourbon', 120.8, 6.9, 0.0), (25, 'Barrell Seagrass', 'Rye', 118.22, 6.8, 0.0), (28, \"Baker's 00027860 (Mike)\", 'Bourbon', 107.0, 7.0, 0.0), (29, \"Maker's 46\", 'Bourbon', 94.0, 7.1, 0.0), (30, 'Barrell Bourbon Batch 31', 'Bourbon', 111.2, 7.7, 0.0), (31, 'Ammunition', 'Bourbon', 90.0, 5.3, 0.0), (32, 'Penelope Barrell Strength Toasted Barrell', 'Bourbon', 114.0, 7.0, 0.0), (33, \"Russell's Reserve 10yr\", 'Bourbon', 90.0, 6.6, 0.0), (35, 'Bardstown Discovery Series 7', 'Bourbon', 114.5, 8.0, 0.0), (36, 'Bardstown Discovery Series 8', 'Bourbon', 114.1, 8.5, 0.0), (37, 'Bulleit 10', 'Bourbon', 91.2, 6.3, 0.0), (38, 'Redwood Empire Lost Monarch', 'Bourye', 90.0, 6.1, 0.0), (40, 'Elijah Craig Barrel Proof A122', 'Bourbon', 120.8, 7.3, 0.0), (41, 'Wild Turkey 101 Rye', 'Rye', 101.0, 7.1, 0.0), (43, 'Woodford Reserve Double Oaked', 'Bourbon', 90.4, 6.5, 0.0), (45, 'Four Roses Small Batch', 'Bourbon', 90.0, 6.2, 0.0), (46, 'Buffalo Trace', 'Bourbon', 90.0, 6.8, 0.0), (48, 'Weller Antique 107', 'Bourbon', 107.0, 7.4, 0.0), (51, 'TX Bourbon', 'Bourbon', 90.0, 4.6, 0.0), (52, 'Barrell Armida', 'Bourbon', 112.8, 7.2, 0.0), (53, 'Barrell Rye Batch 001', 'Rye', 117.0, 7.3, 0.0), (54, 'Bardstown Discovery Series 5', 'Bourbon', 104.7, 8.5, 0.0), (57, 'Elijah Craig Small Batch', 'Bourbon', 94.0, 6.7, 0.0), (58, 'Old Forester 86', 'Bourbon', 86.0, 5.5, 0.0), (59, 'Jack Daniels Single Barrel Select', 'Bourbon', 94.0, 6.8, 0.0), (62, 'Pinhook Bourbon Heist High Proof', 'Bourbon', 119.9, 5.2, 0.0), (63, 'Smoke Wagon UCUF', 'Bourbon', 115.08, 7.2, 0.0), (67, 'Old Forester 1910', 'Bourbon', 93.0, 7.66, 0.0), (68, 'Rabbit Hole Rye Batch 03', 'Rye', 95.0, 6.8, 0.0), (69, \"Booker's Ronnie's Batch 2022-01\", 'Bourbon', 124.3, 6.9, 0.0), (70, 'Bardstown Fusion Series 6', 'Bourbon', 97.9, 6.7, 0.0), (73, 'Bulleit Barrel Proof Batch 7', 'Bourbon', 120.2, 6.63, 0.0), (74, 'J. Henry & Sons Anniversary 2021 LE', 'Bourbon', 122.16, 8.77, 0.0), (75, 'Laphroaig Quarter Cask', 'Scotch', 96.0, 7.0, 0.0), (76, 'Laphroaig 16', 'Scotch', 96.0, 7.3, 0.0), (78, 'Russell’s Single Barrel', 'Bourbon', 110.0, 6.7, 0.0), (82, \"Writer's Tears\", 'Irish', 80.0, 6.2, 0.0), (83, 'Weller Special Reserve ', 'Bourbon', 90.0, 6.6, 0.0), (84, 'Elijah Craig Toasted Barrel ', 'Bourbon', 94.0, 7.65, 0.0), (85, 'Penelope Architect Build 3', 'Bourbon', 104.0, 7.3, 0.0), (87, 'High West Campfire', 'Blended', 92.0, 7.5, 0.0), (88, 'Ardbeg 10', 'Scotch', 92.0, 6.2, 0.0), (90, 'Bulleit', 'Bourbon', 90.0, 6.1, 0.0), (91, 'Knob Creek 9', 'Bourbon', 100.0, 6.1, 0.0), (93, '1792 Full Proof', 'Bourbon', 125.0, 7.6, 0.0), (94, 'Penelope Barrel Strength', 'Bourbon', 115.6, 6.9, 0.0), (95, 'Knob Creek Single Barrel Kentucky Bourbon Festival ', 'Bourbon', 120.0, 8.0, 0.0), (97, 'Pinhook Vertical Series Bourbon War 7yr', 'Bourbon', 115.0, 7.9, 0.0), (99, \"Angel's Envy Rye\", 'Rye', 100.0, 7.6, 0.0), (101, 'Rebel Cask Strength', 'Bourbon', 120.0, 7.2, 0.0), (103, 'Bardstown Fusion Series #8', 'Bourbon', 95.5, 7.5, 0.0), (104, 'Belle Meade Reserve', 'Bourbon ', 108.3, 7.3, 0.0), (105, 'Elijah Craig Barrel Proof C922', 'Bourbon', 124.8, 7.4, 0.0), (108, \"Michter's Sour Mash\", 'Bourbon', 86.0, 5.2, 0.0), (109, 'Old Forester Statesman', 'Bourbon', 95.0, 6.8, 0.0), (116, \"Michter's American \", 'American', 83.4, 5.5, 0.0), (117, 'Old Elk', 'Bourbon', 88.0, 5.8, 0.0), (118, 'Compass Box Peat Monster Arcana', 'Scotch', 92.0, 7.6, 0.0), (119, 'Belle Meade Reserve ', 'Bourbon', 108.3, 7.3, 0.0), (121, 'Wild Turkey Rare Breed', 'Rye', 112.2, 5.2, 0.0), (123, 'Larceny Barrel Proof C921', 'Bourbon', 5.5, 5.9, 0.0), (124, 'Rabbit Hole Dareinger', 'Bourbon', 93.0, 7.8, 0.0), (126, 'Bardstown Fercullen', 'Blended', 102.4, 7.1, 0.0), (129, 'High West Double Rye Barrel Select OHLQ Aquavit', 'Rye', 103.0, 7.0, 0.0), (130, \"Baker's 000271803 (Carl)\", 'Bourbon', 107.0, 8.6, 0.0), (131, 'Smoke Wagon Uncut The Younger', 'Bourbon', 116.0, 6.9, 0.0), (132, 'Eagle Rare', 'Bourbon', 90.0, 7.7, 0.0), (133, 'Redemption Rye', 'Rye', 92.0, 7.3, 0.0), (134, 'Sazerac', 'Rye', 90.0, 5.9, 0.0), (135, 'High West Rendezvous', 'Rye', 92.0, 6.5, 0.0), (136, \"Russel's Reserve Single Barrel\", 'Rye', 104.0, 0.0, 0.0), (137, 'Old Forester 1920', 'Bourbon', 115.0, 8.3, 0.0)]\n"
     ]
    }
   ],
   "source": [
    "c.execute('SELECT * FROM collection')\n",
    "data = c.fetchall()\n",
    "print(data)\n",
    "i = 1\n",
    "for row in data:\n",
    "    print(row)\n",
    "    #data_entry(row, i)\n",
    "    #i = i+1"
   ]
  },
  {
   "cell_type": "code",
   "execution_count": 12,
   "id": "29b79796-2bda-494b-86e6-bce19e2401ee",
   "metadata": {},
   "outputs": [],
   "source": [
    "def data_entry_rat(row, id):\n",
    "    c2.execute(\"INSERT or REPLACE INTO ratings VALUES(?,?,?,?,?,?)\", (row[0], id, row[2], row[3], row[4], row[5]))\n",
    "    \n",
    "    conn2.commit()"
   ]
  },
  {
   "cell_type": "code",
   "execution_count": 18,
   "id": "ff6938d3-7a0d-4461-9eff-792190abee76",
   "metadata": {},
   "outputs": [],
   "source": [
    "c.execute('SELECT * FROM ratings')\n",
    "rate = c.fetchall()\n",
    "c2.execute('SELECT * FROM collection')\n",
    "bot = c2.fetchall()\n",
    "\n",
    "for r in rate:\n",
    "    for b in bot:\n",
    "        if r[1] == b[1]:\n",
    "            data_entry_rat(r, b[0])\n",
    "    #print(row)"
   ]
  },
  {
   "cell_type": "code",
   "execution_count": 17,
   "id": "8a04ca15-4da4-46ff-bd60-aa72623a4c27",
   "metadata": {},
   "outputs": [
    {
     "name": "stdout",
     "output_type": "stream",
     "text": [
      "Pinhook 2022 Rye Mummy\n",
      "Woodford Reserve\n",
      "1\n"
     ]
    }
   ],
   "source": [
    "print(r[1])\n",
    "print(b[1])\n",
    "print(b[0])"
   ]
  },
  {
   "cell_type": "code",
   "execution_count": null,
   "id": "352bc490-9f9e-4a51-a67b-c615eb9004f6",
   "metadata": {},
   "outputs": [],
   "source": [
    "c.close()\n",
    "conn.close()\n",
    "c2.close()\n",
    "conn2.close()"
   ]
  },
  {
   "cell_type": "code",
   "execution_count": null,
   "id": "19f8bdc3-9bda-415a-abab-25eb285bced3",
   "metadata": {},
   "outputs": [],
   "source": []
  }
 ],
 "metadata": {
  "kernelspec": {
   "display_name": "Python 3 (ipykernel)",
   "language": "python",
   "name": "python3"
  },
  "language_info": {
   "codemirror_mode": {
    "name": "ipython",
    "version": 3
   },
   "file_extension": ".py",
   "mimetype": "text/x-python",
   "name": "python",
   "nbconvert_exporter": "python",
   "pygments_lexer": "ipython3",
   "version": "3.10.6"
  }
 },
 "nbformat": 4,
 "nbformat_minor": 5
}
