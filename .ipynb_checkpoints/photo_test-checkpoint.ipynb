{
 "cells": [
  {
   "cell_type": "code",
   "execution_count": 26,
   "id": "51c9a690-a403-4dec-8cb5-5b1673a3b709",
   "metadata": {},
   "outputs": [
    {
     "name": "stdout",
     "output_type": "stream",
     "text": [
      "\n",
      "Item no.: 1 --> Item name = penelope_barrel_strength_toasted_barrel\n",
      "Evaluating...\n",
      "Starting Download...\n",
      "Completed Image ====> penelope_barrel_strength_toasted_barrel 1.121738.jpg\n",
      "\n",
      "Errors: 0\n",
      "\n"
     ]
    }
   ],
   "source": [
    "from google_images_download import google_images_download\n",
    "import os\n",
    "\n",
    "botname = str(\"Penelope Barrel Strength Toasted Barrell\").replace(\" \", \"_\").lower()\n",
    "\n",
    "args[\"keywords\"] = botname\n",
    "args[\"limit\"] = 1\n",
    "args[\"format\"] = \"jpg\"\n",
    "args[\"output_directory\"] = \"static\"\n",
    "args[\"image_directory\"] = \"images\"\n",
    "args[\"prefix\"] = botname\n",
    "\n",
    "response = google_images_download.googleimagesdownload()\n",
    "absolute_image_paths = response.download(args)"
   ]
  },
  {
   "cell_type": "code",
   "execution_count": 24,
   "id": "ecb2418d-5b8e-49b9-bb14-56174fec8734",
   "metadata": {},
   "outputs": [
    {
     "name": "stdout",
     "output_type": "stream",
     "text": [
      "/home/mjhampo/Documents/repos/whiskey_db/static/images/russles_reserve_10yr 1.russell_960x.jpg\n"
     ]
    }
   ],
   "source": [
    "print(absolute_image_paths[0][botname][0])"
   ]
  },
  {
   "cell_type": "code",
   "execution_count": 27,
   "id": "069f3007-7fc2-44b7-a881-578e3476870f",
   "metadata": {},
   "outputs": [],
   "source": [
    "os.rename(absolute_image_paths[0][botname][0], \"/home/mjhampo/Documents/repos/whiskey_db/static/images/\" + botname + \".jpg\")"
   ]
  },
  {
   "cell_type": "code",
   "execution_count": null,
   "id": "af90ede5-e717-4635-8ab6-1fd378bce372",
   "metadata": {},
   "outputs": [],
   "source": []
  }
 ],
 "metadata": {
  "kernelspec": {
   "display_name": "Python 3 (ipykernel)",
   "language": "python",
   "name": "python3"
  },
  "language_info": {
   "codemirror_mode": {
    "name": "ipython",
    "version": 3
   },
   "file_extension": ".py",
   "mimetype": "text/x-python",
   "name": "python",
   "nbconvert_exporter": "python",
   "pygments_lexer": "ipython3",
   "version": "3.10.6"
  }
 },
 "nbformat": 4,
 "nbformat_minor": 5
}
