{
 "cells": [
  {
   "cell_type": "code",
   "execution_count": 1,
   "id": "8fe08771-c39a-4de4-b228-7fafbda2ecb3",
   "metadata": {},
   "outputs": [
    {
     "name": "stderr",
     "output_type": "stream",
     "text": [
      "/home/mjhampo/Documents/repos/whiskey_db/venv/lib/python3.10/site-packages/flask_sqlalchemy/__init__.py:872: FSADeprecationWarning: SQLALCHEMY_TRACK_MODIFICATIONS adds significant overhead and will be disabled by default in the future.  Set it to True or False to suppress this warning.\n",
      "  warnings.warn(FSADeprecationWarning(\n"
     ]
    }
   ],
   "source": [
    "from operator import truediv\n",
    "from flask import Flask, render_template, url_for, request, redirect\n",
    "from flask_sqlalchemy import SQLAlchemy\n",
    "from datetime import datetime\n",
    "from os.path import exists\n",
    "from google_images_download import google_images_download\n",
    "import os\n",
    "\n",
    "app = Flask(__name__)\n",
    "app.config['SQLALCHEMY_DATABASE_URI'] = 'sqlite:///whiskey.db'\n",
    "db = SQLAlchemy(app)\n",
    "\n",
    "class Ratings(db.Model):\n",
    "    rating_num = db.Column(db.Integer, primary_key=True)\n",
    "    bottle_id = db.Column(db.Integer, nullable=False)\n",
    "    rating = db.Column(db.Integer, nullable=False)\n",
    "    drinker = db.Column(db.String(50))\n",
    "    date_drank = db.Column(db.DateTime, default=datetime.utcnow)\n",
    "    blind = db.Column(db.Boolean, default=False)\n",
    "\n",
    "    def __repr__(self):\n",
    "        return '<whiskey %r>' % self.bottle_id\n",
    "\n",
    "class Collection(db.Model):\n",
    "    bottle_id = db.Column(db.Integer, primary_key=True)\n",
    "    bottle_name = db.Column(db.String(200))\n",
    "    whiskey_type = db.Column(db.String(50), default=0)\n",
    "    proof = db.Column(db.Float, default=0)\n",
    "    avg_rating = db.Column(db.Float, default=0)\n",
    "    price = db.Column(db.Float, default=0)\n",
    "\n",
    "    def __repr__(self):\n",
    "        return '<bottle %r>' % self.bottle"
   ]
  },
  {
   "cell_type": "code",
   "execution_count": 2,
   "id": "83244c2e-cf8e-4aa0-b3f4-3b0cb5eaf38d",
   "metadata": {},
   "outputs": [],
   "source": [
    "ratings = Ratings.query.order_by(Ratings.date_drank).all()"
   ]
  },
  {
   "cell_type": "code",
   "execution_count": 5,
   "id": "69e25411-12dc-41f7-82b9-9d45a7aec9a1",
   "metadata": {},
   "outputs": [
    {
     "ename": "AttributeError",
     "evalue": "'Ratings' object has no attribute 'whiskey'",
     "output_type": "error",
     "traceback": [
      "\u001b[0;31m---------------------------------------------------------------------------\u001b[0m",
      "\u001b[0;31mAttributeError\u001b[0m                            Traceback (most recent call last)",
      "Cell \u001b[0;32mIn [5], line 1\u001b[0m\n\u001b[0;32m----> 1\u001b[0m \u001b[38;5;28mprint\u001b[39m(ratings[\u001b[38;5;241m0\u001b[39m])\n",
      "Cell \u001b[0;32mIn [1], line 22\u001b[0m, in \u001b[0;36mRatings.__repr__\u001b[0;34m(self)\u001b[0m\n\u001b[1;32m     21\u001b[0m \u001b[38;5;28;01mdef\u001b[39;00m \u001b[38;5;21m__repr__\u001b[39m(\u001b[38;5;28mself\u001b[39m):\n\u001b[0;32m---> 22\u001b[0m     \u001b[38;5;28;01mreturn\u001b[39;00m \u001b[38;5;124m'\u001b[39m\u001b[38;5;124m<whiskey \u001b[39m\u001b[38;5;132;01m%r\u001b[39;00m\u001b[38;5;124m>\u001b[39m\u001b[38;5;124m'\u001b[39m \u001b[38;5;241m%\u001b[39m \u001b[38;5;28;43mself\u001b[39;49m\u001b[38;5;241;43m.\u001b[39;49m\u001b[43mwhiskey\u001b[49m\n",
      "\u001b[0;31mAttributeError\u001b[0m: 'Ratings' object has no attribute 'whiskey'"
     ]
    }
   ],
   "source": [
    "print(ratings[0])"
   ]
  },
  {
   "cell_type": "code",
   "execution_count": null,
   "id": "8111f078-a332-44d5-bcaf-57ab68b46ca3",
   "metadata": {},
   "outputs": [],
   "source": []
  }
 ],
 "metadata": {
  "kernelspec": {
   "display_name": "Python 3 (ipykernel)",
   "language": "python",
   "name": "python3"
  },
  "language_info": {
   "codemirror_mode": {
    "name": "ipython",
    "version": 3
   },
   "file_extension": ".py",
   "mimetype": "text/x-python",
   "name": "python",
   "nbconvert_exporter": "python",
   "pygments_lexer": "ipython3",
   "version": "3.10.6"
  }
 },
 "nbformat": 4,
 "nbformat_minor": 5
}
