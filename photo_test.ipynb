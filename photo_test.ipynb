{
 "cells": [
  {
   "cell_type": "code",
   "execution_count": 1,
   "id": "51c9a690-a403-4dec-8cb5-5b1673a3b709",
   "metadata": {},
   "outputs": [
    {
     "name": "stdout",
     "output_type": "stream",
     "text": [
      "\n",
      "Item no.: 1 --> Item name = weller_12 Bourbon whiskey\n",
      "Evaluating...\n",
      "Starting Download...\n",
      "'NoneType' object is not subscriptable\n"
     ]
    },
    {
     "ename": "TypeError",
     "evalue": "'NoneType' object is not subscriptable",
     "output_type": "error",
     "traceback": [
      "\u001b[0;31m---------------------------------------------------------------------------\u001b[0m",
      "\u001b[0;31mTypeError\u001b[0m                                 Traceback (most recent call last)",
      "Cell \u001b[0;32mIn [1], line 16\u001b[0m\n\u001b[1;32m     13\u001b[0m args[\u001b[38;5;124m\"\u001b[39m\u001b[38;5;124mtime\u001b[39m\u001b[38;5;124m\"\u001b[39m] \u001b[38;5;241m=\u001b[39m \u001b[38;5;124m\"\u001b[39m\u001b[38;5;124mpast-year\u001b[39m\u001b[38;5;124m\"\u001b[39m\n\u001b[1;32m     15\u001b[0m response \u001b[38;5;241m=\u001b[39m google_images_download\u001b[38;5;241m.\u001b[39mgoogleimagesdownload()\n\u001b[0;32m---> 16\u001b[0m absolute_image_paths \u001b[38;5;241m=\u001b[39m response\u001b[38;5;241m.\u001b[39mdownload(args)\n\u001b[1;32m     17\u001b[0m os\u001b[38;5;241m.\u001b[39mrename(absolute_image_paths[\u001b[38;5;241m0\u001b[39m][args[\u001b[38;5;124m\"\u001b[39m\u001b[38;5;124mkeywords\u001b[39m\u001b[38;5;124m\"\u001b[39m]][\u001b[38;5;241m0\u001b[39m], \u001b[38;5;124m\"\u001b[39m\u001b[38;5;124m./static/images/\u001b[39m\u001b[38;5;124m\"\u001b[39m \u001b[38;5;241m+\u001b[39m botname \u001b[38;5;241m+\u001b[39m \u001b[38;5;124m\"\u001b[39m\u001b[38;5;124m.jpg\u001b[39m\u001b[38;5;124m\"\u001b[39m)\n\u001b[1;32m     19\u001b[0m \u001b[38;5;28mprint\u001b[39m(\u001b[38;5;124m\"\u001b[39m\u001b[38;5;124mcant find bottle image\u001b[39m\u001b[38;5;124m\"\u001b[39m)\n",
      "File \u001b[0;32m~/Documents/repos/whiskey_db/venv/lib/python3.10/site-packages/google_images_download/google_images_download.py:970\u001b[0m, in \u001b[0;36mgoogleimagesdownload.download\u001b[0;34m(self, arguments)\u001b[0m\n\u001b[1;32m    967\u001b[0m     \u001b[38;5;28;01mreturn\u001b[39;00m paths_agg, total_errors\n\u001b[1;32m    968\u001b[0m \u001b[38;5;66;03m# if the calling file contains params directly\u001b[39;00m\n\u001b[1;32m    969\u001b[0m \u001b[38;5;28;01melse\u001b[39;00m:\n\u001b[0;32m--> 970\u001b[0m     paths, errors \u001b[38;5;241m=\u001b[39m \u001b[38;5;28;43mself\u001b[39;49m\u001b[38;5;241;43m.\u001b[39;49m\u001b[43mdownload_executor\u001b[49m\u001b[43m(\u001b[49m\u001b[43marguments\u001b[49m\u001b[43m)\u001b[49m\n\u001b[1;32m    971\u001b[0m     \u001b[38;5;28;01mfor\u001b[39;00m i \u001b[38;5;129;01min\u001b[39;00m paths:\n\u001b[1;32m    972\u001b[0m         paths_agg[i] \u001b[38;5;241m=\u001b[39m paths[i]\n",
      "File \u001b[0;32m~/Documents/repos/whiskey_db/venv/lib/python3.10/site-packages/google_images_download/google_images_download.py:1118\u001b[0m, in \u001b[0;36mgoogleimagesdownload.download_executor\u001b[0;34m(self, arguments)\u001b[0m\n\u001b[1;32m   1116\u001b[0m     \u001b[38;5;28;01melse\u001b[39;00m:\n\u001b[1;32m   1117\u001b[0m         \u001b[38;5;28mprint\u001b[39m(\u001b[38;5;124m\"\u001b[39m\u001b[38;5;124mStarting Download...\u001b[39m\u001b[38;5;124m\"\u001b[39m)\n\u001b[0;32m-> 1118\u001b[0m items, errorCount, abs_path \u001b[38;5;241m=\u001b[39m \u001b[38;5;28;43mself\u001b[39;49m\u001b[38;5;241;43m.\u001b[39;49m\u001b[43m_get_all_items\u001b[49m\u001b[43m(\u001b[49m\u001b[43mimages\u001b[49m\u001b[43m,\u001b[49m\u001b[43m \u001b[49m\u001b[43mmain_directory\u001b[49m\u001b[43m,\u001b[49m\u001b[43m \u001b[49m\u001b[43mdir_name\u001b[49m\u001b[43m,\u001b[49m\u001b[43m \u001b[49m\u001b[43mlimit\u001b[49m\u001b[43m,\u001b[49m\n\u001b[1;32m   1119\u001b[0m \u001b[43m                                                  \u001b[49m\u001b[43marguments\u001b[49m\u001b[43m)\u001b[49m  \u001b[38;5;66;03m# get all image items and download images\u001b[39;00m\n\u001b[1;32m   1120\u001b[0m paths[pky \u001b[38;5;241m+\u001b[39m search_keyword[i] \u001b[38;5;241m+\u001b[39m sky] \u001b[38;5;241m=\u001b[39m abs_path\n\u001b[1;32m   1122\u001b[0m \u001b[38;5;66;03m# dumps into a json file\u001b[39;00m\n",
      "File \u001b[0;32m~/Documents/repos/whiskey_db/venv/lib/python3.10/site-packages/google_images_download/google_images_download.py:906\u001b[0m, in \u001b[0;36mgoogleimagesdownload._get_all_items\u001b[0;34m(self, image_objects, main_directory, dir_name, limit, arguments)\u001b[0m\n\u001b[1;32m    902\u001b[0m         \u001b[38;5;28mprint\u001b[39m(\u001b[38;5;124m\"\u001b[39m\u001b[38;5;130;01m\\n\u001b[39;00m\u001b[38;5;124mImage Metadata: \u001b[39m\u001b[38;5;124m\"\u001b[39m \u001b[38;5;241m+\u001b[39m \u001b[38;5;28mstr\u001b[39m(\u001b[38;5;28mobject\u001b[39m))\n\u001b[1;32m    904\u001b[0m \u001b[38;5;66;03m# download the images\u001b[39;00m\n\u001b[1;32m    905\u001b[0m download_status, download_message, return_image_name, absolute_path \u001b[38;5;241m=\u001b[39m \u001b[38;5;28mself\u001b[39m\u001b[38;5;241m.\u001b[39mdownload_image(\n\u001b[0;32m--> 906\u001b[0m     \u001b[38;5;28;43mobject\u001b[39;49m\u001b[43m[\u001b[49m\u001b[38;5;124;43m'\u001b[39;49m\u001b[38;5;124;43mimage_link\u001b[39;49m\u001b[38;5;124;43m'\u001b[39;49m\u001b[43m]\u001b[49m, \u001b[38;5;28mobject\u001b[39m[\u001b[38;5;124m'\u001b[39m\u001b[38;5;124mimage_format\u001b[39m\u001b[38;5;124m'\u001b[39m], main_directory, dir_name, count,\n\u001b[1;32m    907\u001b[0m     arguments[\u001b[38;5;124m'\u001b[39m\u001b[38;5;124mprint_urls\u001b[39m\u001b[38;5;124m'\u001b[39m], arguments[\u001b[38;5;124m'\u001b[39m\u001b[38;5;124msocket_timeout\u001b[39m\u001b[38;5;124m'\u001b[39m], arguments[\u001b[38;5;124m'\u001b[39m\u001b[38;5;124mprefix\u001b[39m\u001b[38;5;124m'\u001b[39m], arguments[\u001b[38;5;124m'\u001b[39m\u001b[38;5;124mprint_size\u001b[39m\u001b[38;5;124m'\u001b[39m],\n\u001b[1;32m    908\u001b[0m     arguments[\u001b[38;5;124m'\u001b[39m\u001b[38;5;124mno_numbering\u001b[39m\u001b[38;5;124m'\u001b[39m], arguments[\u001b[38;5;124m'\u001b[39m\u001b[38;5;124mno_download\u001b[39m\u001b[38;5;124m'\u001b[39m], arguments[\u001b[38;5;124m'\u001b[39m\u001b[38;5;124msave_source\u001b[39m\u001b[38;5;124m'\u001b[39m],\n\u001b[1;32m    909\u001b[0m     \u001b[38;5;28mobject\u001b[39m[\u001b[38;5;124m'\u001b[39m\u001b[38;5;124mimage_source\u001b[39m\u001b[38;5;124m'\u001b[39m], arguments[\u001b[38;5;124m\"\u001b[39m\u001b[38;5;124msilent_mode\u001b[39m\u001b[38;5;124m\"\u001b[39m], arguments[\u001b[38;5;124m\"\u001b[39m\u001b[38;5;124mthumbnail_only\u001b[39m\u001b[38;5;124m\"\u001b[39m], arguments[\u001b[38;5;124m'\u001b[39m\u001b[38;5;124mformat\u001b[39m\u001b[38;5;124m'\u001b[39m],\n\u001b[1;32m    910\u001b[0m     arguments[\u001b[38;5;124m'\u001b[39m\u001b[38;5;124mignore_urls\u001b[39m\u001b[38;5;124m'\u001b[39m])\n\u001b[1;32m    911\u001b[0m \u001b[38;5;28;01mif\u001b[39;00m \u001b[38;5;129;01mnot\u001b[39;00m arguments[\u001b[38;5;124m\"\u001b[39m\u001b[38;5;124msilent_mode\u001b[39m\u001b[38;5;124m\"\u001b[39m]:\n\u001b[1;32m    912\u001b[0m     \u001b[38;5;28mprint\u001b[39m(download_message)\n",
      "\u001b[0;31mTypeError\u001b[0m: 'NoneType' object is not subscriptable"
     ]
    }
   ],
   "source": [
    "from os.path import exists\n",
    "from google_images_download import google_images_download\n",
    "import os\n",
    "\n",
    "botname = str(\"Weller 12\").replace(\" \", \"_\").lower()\n",
    "args = {}\n",
    "args[\"keywords\"] = botname + \" \" + \"Bourbon\" + \" whiskey\"\n",
    "args[\"limit\"] = 1\n",
    "args[\"format\"] = \"jpg\"\n",
    "args[\"output_directory\"] = \"static\"\n",
    "args[\"image_directory\"] = \"images\"\n",
    "args[\"aspect_ratio\"] = \"tall\"\n",
    "args[\"time\"] = \"past-year\"\n",
    "\n",
    "response = google_images_download.googleimagesdownload()\n",
    "absolute_image_paths = response.download(args)\n",
    "os.rename(absolute_image_paths[0][args[\"keywords\"]][0], \"./static/images/\" + botname + \".jpg\")\n",
    "\n",
    "print(\"cant find bottle image\")"
   ]
  },
  {
   "cell_type": "code",
   "execution_count": 4,
   "id": "ecb2418d-5b8e-49b9-bb14-56174fec8734",
   "metadata": {},
   "outputs": [
    {
     "ename": "NameError",
     "evalue": "name 'absolute_image_paths' is not defined",
     "output_type": "error",
     "traceback": [
      "\u001b[0;31m---------------------------------------------------------------------------\u001b[0m",
      "\u001b[0;31mNameError\u001b[0m                                 Traceback (most recent call last)",
      "Cell \u001b[0;32mIn [4], line 1\u001b[0m\n\u001b[0;32m----> 1\u001b[0m \u001b[38;5;28mprint\u001b[39m(absolute_image_paths[\u001b[38;5;241m0\u001b[39m][botname][\u001b[38;5;241m0\u001b[39m])\n",
      "\u001b[0;31mNameError\u001b[0m: name 'absolute_image_paths' is not defined"
     ]
    }
   ],
   "source": [
    "print(absolute_image_paths[0][botname][0])"
   ]
  },
  {
   "cell_type": "code",
   "execution_count": 27,
   "id": "069f3007-7fc2-44b7-a881-578e3476870f",
   "metadata": {},
   "outputs": [],
   "source": [
    "os.rename(absolute_image_paths[0][botname][0], \"/home/mjhampo/Documents/repos/whiskey_db/static/images/\" + botname + \".jpg\")"
   ]
  },
  {
   "cell_type": "code",
   "execution_count": null,
   "id": "af90ede5-e717-4635-8ab6-1fd378bce372",
   "metadata": {},
   "outputs": [],
   "source": []
  }
 ],
 "metadata": {
  "kernelspec": {
   "display_name": "Python 3 (ipykernel)",
   "language": "python",
   "name": "python3"
  },
  "language_info": {
   "codemirror_mode": {
    "name": "ipython",
    "version": 3
   },
   "file_extension": ".py",
   "mimetype": "text/x-python",
   "name": "python",
   "nbconvert_exporter": "python",
   "pygments_lexer": "ipython3",
   "version": "3.10.6"
  }
 },
 "nbformat": 4,
 "nbformat_minor": 5
}
